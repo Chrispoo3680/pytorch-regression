{
 "cells": [
  {
   "cell_type": "code",
   "execution_count": 2,
   "id": "8cfb3434",
   "metadata": {},
   "outputs": [
    {
     "name": "stdout",
     "output_type": "stream",
     "text": [
      "C:\\Users\\chris\\AppData\\Local\\Programs\\Python\\Python313\\python313.zip\n",
      "C:\\Users\\chris\\AppData\\Local\\Programs\\Python\\Python313\\DLLs\n",
      "C:\\Users\\chris\\AppData\\Local\\Programs\\Python\\Python313\\Lib\n",
      "C:\\Users\\chris\\AppData\\Local\\Programs\\Python\\Python313\n",
      "c:\\Users\\chris\\Desktop\\GitHub\\pytorch-regression\\.venv\n",
      "\n",
      "c:\\Users\\chris\\Desktop\\GitHub\\pytorch-regression\\.venv\\Lib\\site-packages\n",
      "c:\\Users\\chris\\Desktop\\GitHub\\pytorch-regression\\.venv\\Lib\\site-packages\\win32\n",
      "c:\\Users\\chris\\Desktop\\GitHub\\pytorch-regression\\.venv\\Lib\\site-packages\\win32\\lib\n",
      "c:\\Users\\chris\\Desktop\\GitHub\\pytorch-regression\\.venv\\Lib\\site-packages\\Pythonwin\n",
      "C:\\Users\\chris\\Desktop\\GitHub\\pytorch-regression\n"
     ]
    }
   ],
   "source": [
    "import sys\n",
    "from pathlib import Path\n",
    "\n",
    "repo_root_dir: Path = Path(r\"C:\\Users\\chris\\Desktop\\GitHub\\pytorch-regression\\notebooks\\train.ipynb\").parent.parent\n",
    "\n",
    "if str(repo_root_dir) not in sys.path:\n",
    "    sys.path.append(str(repo_root_dir))\n",
    "\n",
    "for p in sys.path: print(p)"
   ]
  },
  {
   "cell_type": "code",
   "execution_count": 4,
   "id": "f2766e34",
   "metadata": {},
   "outputs": [],
   "source": [
    "from src import engine"
   ]
  }
 ],
 "metadata": {
  "kernelspec": {
   "display_name": ".venv",
   "language": "python",
   "name": "python3"
  },
  "language_info": {
   "codemirror_mode": {
    "name": "ipython",
    "version": 3
   },
   "file_extension": ".py",
   "mimetype": "text/x-python",
   "name": "python",
   "nbconvert_exporter": "python",
   "pygments_lexer": "ipython3",
   "version": "3.13.3"
  }
 },
 "nbformat": 4,
 "nbformat_minor": 5
}
