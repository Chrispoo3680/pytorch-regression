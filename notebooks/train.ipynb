{
 "cells": [
  {
   "cell_type": "code",
   "execution_count": 1,
   "id": "8cfb3434",
   "metadata": {},
   "outputs": [
    {
     "name": "stdout",
     "output_type": "stream",
     "text": [
      "C:\\Users\\chris\\AppData\\Local\\Programs\\Python\\Python313\\python313.zip\n",
      "C:\\Users\\chris\\AppData\\Local\\Programs\\Python\\Python313\\DLLs\n",
      "C:\\Users\\chris\\AppData\\Local\\Programs\\Python\\Python313\\Lib\n",
      "C:\\Users\\chris\\AppData\\Local\\Programs\\Python\\Python313\n",
      "c:\\Users\\chris\\Desktop\\GitHub\\pytorch-regression\\.venv\n",
      "\n",
      "c:\\Users\\chris\\Desktop\\GitHub\\pytorch-regression\\.venv\\Lib\\site-packages\n",
      "c:\\Users\\chris\\Desktop\\GitHub\\pytorch-regression\\.venv\\Lib\\site-packages\\win32\n",
      "c:\\Users\\chris\\Desktop\\GitHub\\pytorch-regression\\.venv\\Lib\\site-packages\\win32\\lib\n",
      "c:\\Users\\chris\\Desktop\\GitHub\\pytorch-regression\\.venv\\Lib\\site-packages\\Pythonwin\n",
      "C:\\Users\\chris\\Desktop\\GitHub\\pytorch-regression\n"
     ]
    }
   ],
   "source": [
    "import sys\n",
    "from pathlib import Path\n",
    "\n",
    "repo_root_dir: Path = Path(r\"C:\\Users\\chris\\Desktop\\GitHub\\pytorch-regression\\notebooks\\train.ipynb\").parent.parent\n",
    "\n",
    "if str(repo_root_dir) not in sys.path:\n",
    "    sys.path.append(str(repo_root_dir))\n",
    "\n",
    "for p in sys.path: print(p)"
   ]
  },
  {
   "cell_type": "code",
   "execution_count": 2,
   "id": "46747ca2",
   "metadata": {},
   "outputs": [
    {
     "data": {
      "text/plain": [
       "'\\ndata_download.kaggle_download_data(\\n            data_slug=config[\"linear_regression_dataset_slug\"],\\n            data_name=config[\"linear_regression_dataset_name\"],\\n            save_path=data_path,\\n        )\\n'"
      ]
     },
     "execution_count": 2,
     "metadata": {},
     "output_type": "execute_result"
    }
   ],
   "source": [
    "from src import data_download\n",
    "from src.common import tools\n",
    "\n",
    "config = tools.load_config()\n",
    "\n",
    "data_path: Path = repo_root_dir / config[\"data_path\"]\n",
    "\n",
    "\"\"\"\n",
    "data_download.kaggle_download_data(\n",
    "            data_slug=config[\"linear_regression_dataset_slug\"],\n",
    "            data_name=config[\"linear_regression_dataset_name\"],\n",
    "            save_path=data_path,\n",
    "        )\n",
    "\"\"\""
   ]
  },
  {
   "cell_type": "code",
   "execution_count": 3,
   "id": "1f75dd0e",
   "metadata": {},
   "outputs": [
    {
     "data": {
      "text/plain": [
       "[WindowsPath('C:/Users/chris/Desktop/GitHub/pytorch-regression/data/linear_regression_dataset/test.csv'),\n",
       " WindowsPath('C:/Users/chris/Desktop/GitHub/pytorch-regression/data/linear_regression_dataset/train.csv')]"
      ]
     },
     "execution_count": 3,
     "metadata": {},
     "output_type": "execute_result"
    }
   ],
   "source": [
    "from pathlib import Path\n",
    "\n",
    "data_paths = list(Path(data_path).rglob(\"*.csv\" ))\n",
    "data_paths"
   ]
  },
  {
   "cell_type": "code",
   "execution_count": 4,
   "id": "4cf1e7b8",
   "metadata": {},
   "outputs": [],
   "source": [
    "from src import preprocess\n",
    "\n",
    "dataset = preprocess.CSVDataset(data_paths)"
   ]
  },
  {
   "cell_type": "code",
   "execution_count": 5,
   "id": "dd04dd74",
   "metadata": {},
   "outputs": [
    {
     "data": {
      "text/html": [
       "<div><style>\n",
       ".dataframe > thead > tr,\n",
       ".dataframe > tbody > tr {\n",
       "  text-align: right;\n",
       "  white-space: pre-wrap;\n",
       "}\n",
       "</style>\n",
       "<small>shape: (999, 2)</small><table border=\"1\" class=\"dataframe\"><thead><tr><th>x</th><th>y</th></tr><tr><td>f64</td><td>f64</td></tr></thead><tbody><tr><td>77.0</td><td>79.775152</td></tr><tr><td>21.0</td><td>23.177279</td></tr><tr><td>22.0</td><td>25.609262</td></tr><tr><td>20.0</td><td>17.857388</td></tr><tr><td>36.0</td><td>41.849864</td></tr><tr><td>&hellip;</td><td>&hellip;</td></tr><tr><td>58.0</td><td>58.595006</td></tr><tr><td>93.0</td><td>94.625094</td></tr><tr><td>82.0</td><td>88.60377</td></tr><tr><td>66.0</td><td>63.648685</td></tr><tr><td>97.0</td><td>94.975266</td></tr></tbody></table></div>"
      ],
      "text/plain": [
       "shape: (999, 2)\n",
       "┌──────┬───────────┐\n",
       "│ x    ┆ y         │\n",
       "│ ---  ┆ ---       │\n",
       "│ f64  ┆ f64       │\n",
       "╞══════╪═══════════╡\n",
       "│ 77.0 ┆ 79.775152 │\n",
       "│ 21.0 ┆ 23.177279 │\n",
       "│ 22.0 ┆ 25.609262 │\n",
       "│ 20.0 ┆ 17.857388 │\n",
       "│ 36.0 ┆ 41.849864 │\n",
       "│ …    ┆ …         │\n",
       "│ 58.0 ┆ 58.595006 │\n",
       "│ 93.0 ┆ 94.625094 │\n",
       "│ 82.0 ┆ 88.60377  │\n",
       "│ 66.0 ┆ 63.648685 │\n",
       "│ 97.0 ┆ 94.975266 │\n",
       "└──────┴───────────┘"
      ]
     },
     "execution_count": 5,
     "metadata": {},
     "output_type": "execute_result"
    }
   ],
   "source": [
    "dataset.df"
   ]
  }
 ],
 "metadata": {
  "kernelspec": {
   "display_name": ".venv",
   "language": "python",
   "name": "python3"
  },
  "language_info": {
   "codemirror_mode": {
    "name": "ipython",
    "version": 3
   },
   "file_extension": ".py",
   "mimetype": "text/x-python",
   "name": "python",
   "nbconvert_exporter": "python",
   "pygments_lexer": "ipython3",
   "version": "3.13.3"
  }
 },
 "nbformat": 4,
 "nbformat_minor": 5
}
