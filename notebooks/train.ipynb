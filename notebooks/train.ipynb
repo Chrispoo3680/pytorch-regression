{
 "cells": [
  {
   "cell_type": "code",
   "execution_count": 1,
   "id": "8cfb3434",
   "metadata": {},
   "outputs": [
    {
     "name": "stdout",
     "output_type": "stream",
     "text": [
      "C:\\Users\\chris\\AppData\\Local\\Programs\\Python\\Python313\\python313.zip\n",
      "C:\\Users\\chris\\AppData\\Local\\Programs\\Python\\Python313\\DLLs\n",
      "C:\\Users\\chris\\AppData\\Local\\Programs\\Python\\Python313\\Lib\n",
      "C:\\Users\\chris\\AppData\\Local\\Programs\\Python\\Python313\n",
      "c:\\Users\\chris\\Desktop\\GitHub\\pytorch-regression\\.venv\n",
      "\n",
      "c:\\Users\\chris\\Desktop\\GitHub\\pytorch-regression\\.venv\\Lib\\site-packages\n",
      "c:\\Users\\chris\\Desktop\\GitHub\\pytorch-regression\\.venv\\Lib\\site-packages\\win32\n",
      "c:\\Users\\chris\\Desktop\\GitHub\\pytorch-regression\\.venv\\Lib\\site-packages\\win32\\lib\n",
      "c:\\Users\\chris\\Desktop\\GitHub\\pytorch-regression\\.venv\\Lib\\site-packages\\Pythonwin\n",
      "C:\\Users\\chris\\Desktop\\GitHub\\pytorch-regression\n"
     ]
    }
   ],
   "source": [
    "import sys\n",
    "from pathlib import Path\n",
    "\n",
    "repo_root_dir: Path = Path(r\"C:\\Users\\chris\\Desktop\\GitHub\\pytorch-regression\\notebooks\\train.ipynb\").parent.parent\n",
    "\n",
    "if str(repo_root_dir) not in sys.path:\n",
    "    sys.path.append(str(repo_root_dir))\n",
    "\n",
    "for p in sys.path: print(p)"
   ]
  },
  {
   "cell_type": "code",
   "execution_count": 2,
   "id": "46747ca2",
   "metadata": {},
   "outputs": [
    {
     "data": {
      "text/plain": [
       "'\\ndata_download.kaggle_download_data(\\n            data_slug=config[\"linear_regression_dataset_slug\"],\\n            data_name=config[\"linear_regression_dataset_name\"],\\n            save_path=data_path,\\n        )\\n'"
      ]
     },
     "execution_count": 2,
     "metadata": {},
     "output_type": "execute_result"
    }
   ],
   "source": [
    "from src import data_download\n",
    "from src.common import tools\n",
    "\n",
    "config = tools.load_config()\n",
    "\n",
    "data_path: Path = repo_root_dir / config[\"data_path\"]\n",
    "\n",
    "\"\"\"\n",
    "data_download.kaggle_download_data(\n",
    "            data_slug=config[\"linear_regression_dataset_slug\"],\n",
    "            data_name=config[\"linear_regression_dataset_name\"],\n",
    "            save_path=data_path,\n",
    "        )\n",
    "\"\"\""
   ]
  },
  {
   "cell_type": "code",
   "execution_count": 3,
   "id": "1f75dd0e",
   "metadata": {},
   "outputs": [
    {
     "data": {
      "text/plain": [
       "[WindowsPath('C:/Users/chris/Desktop/GitHub/pytorch-regression/data/linear_regression_dataset/test.csv'),\n",
       " WindowsPath('C:/Users/chris/Desktop/GitHub/pytorch-regression/data/linear_regression_dataset/train.csv')]"
      ]
     },
     "execution_count": 3,
     "metadata": {},
     "output_type": "execute_result"
    }
   ],
   "source": [
    "from pathlib import Path\n",
    "\n",
    "data_paths = list(Path(data_path).rglob(\"*.csv\" ))\n",
    "data_paths"
   ]
  },
  {
   "cell_type": "code",
   "execution_count": 4,
   "id": "4cf1e7b8",
   "metadata": {},
   "outputs": [],
   "source": [
    "from src import preprocess\n",
    "\n",
    "dataset = preprocess.CSVDataset(data_paths)"
   ]
  },
  {
   "cell_type": "code",
   "execution_count": 12,
   "id": "425116b7",
   "metadata": {},
   "outputs": [],
   "source": [
    "import torch\n",
    "X = torch.tensor([[56.],[74.],\n",
    "        [99.],\n",
    "        [71.],\n",
    "        [38.],\n",
    "        [93.],\n",
    "        [41.],\n",
    "        [70.],\n",
    "        [39.],\n",
    "        [ 8.],\n",
    "        [80.],\n",
    "        [36.],\n",
    "        [19.],\n",
    "        [49.],\n",
    "        [87.],\n",
    "        [32.],\n",
    "        [48.],\n",
    "        [93.],\n",
    "        [54.],\n",
    "        [17.],\n",
    "        [90.],\n",
    "        [ 0.],\n",
    "        [49.],\n",
    "        [91.],\n",
    "        [84.],\n",
    "        [80.],\n",
    "        [89.],\n",
    "        [97.],\n",
    "        [74.],\n",
    "        [63.],\n",
    "        [47.],\n",
    "        [ 3.],\n",
    "        [86.],\n",
    "        [93.],\n",
    "        [33.],\n",
    "        [56.],\n",
    "        [51.],\n",
    "        [55.],\n",
    "        [82.],\n",
    "        [48.],\n",
    "        [85.],\n",
    "        [52.],\n",
    "        [70.],\n",
    "        [29.],\n",
    "        [34.],\n",
    "        [78.],\n",
    "        [ 0.],\n",
    "        [37.],\n",
    "        [59.],\n",
    "        [90.],\n",
    "        [76.],\n",
    "        [62.],\n",
    "        [95.],\n",
    "        [41.],\n",
    "        [25.],\n",
    "        [ 4.],\n",
    "        [62.],\n",
    "        [62.],\n",
    "        [62.],\n",
    "        [ 2.],\n",
    "        [89.],\n",
    "        [38.],\n",
    "        [44.],\n",
    "        [ 4.]])\n",
    "\n",
    "y = torch.tensor([[ 52.6700],\n",
    "        [ 71.6101],\n",
    "        [ 99.1120],\n",
    "        [ 68.9214],\n",
    "        [ 35.7980],\n",
    "        [ 91.1772],\n",
    "        [ 43.1613],\n",
    "        [ 66.9476],\n",
    "        [ 39.4005],\n",
    "        [  2.3792],\n",
    "        [ 77.1374],\n",
    "        [ 32.4639],\n",
    "        [ 22.1363],\n",
    "        [ 50.6173],\n",
    "        [ 84.2119],\n",
    "        [ 28.4145],\n",
    "        [ 48.8815],\n",
    "        [ 89.4222],\n",
    "        [ 52.2683],\n",
    "        [ 17.3368],\n",
    "        [ 86.2367],\n",
    "        [  2.1161],\n",
    "        [ 49.7236],\n",
    "        [ 85.2349],\n",
    "        [ 83.5057],\n",
    "        [ 75.2415],\n",
    "        [ 86.5070],\n",
    "        [101.6229],\n",
    "        [ 70.7755],\n",
    "        [ 62.0319],\n",
    "        [ 47.4138],\n",
    "        [  3.5747],\n",
    "        [ 83.8843],\n",
    "        [ 94.5520],\n",
    "        [ 35.0747],\n",
    "        [ 59.2436],\n",
    "        [ 55.8500],\n",
    "        [ 50.5071],\n",
    "        [ 86.7900],\n",
    "        [ 47.0587],\n",
    "        [ 82.6909],\n",
    "        [ 52.2476],\n",
    "        [ 71.1433],\n",
    "        [ 26.3346],\n",
    "        [ 36.1089],\n",
    "        [ 79.1051],\n",
    "        [ -3.8367],\n",
    "        [ 34.5931],\n",
    "        [ 62.0381],\n",
    "        [ 88.6167],\n",
    "        [ 75.3003],\n",
    "        [ 61.2651],\n",
    "        [ 93.7318],\n",
    "        [ 43.8831],\n",
    "        [ 25.3332],\n",
    "        [  7.0813],\n",
    "        [ 66.4828],\n",
    "        [ 58.0903],\n",
    "        [ 64.9484],\n",
    "        [  1.5766],\n",
    "        [ 89.1041],\n",
    "        [ 31.1133],\n",
    "        [ 48.5972],\n",
    "        [  2.3167]])"
   ]
  },
  {
   "cell_type": "code",
   "execution_count": 18,
   "id": "dd04dd74",
   "metadata": {},
   "outputs": [
    {
     "name": "stdout",
     "output_type": "stream",
     "text": [
      "tensor([[0.5405],\n",
      "        [0.6299],\n",
      "        [0.7534],\n",
      "        [0.6151],\n",
      "        [0.4500],\n",
      "        [0.7237],\n",
      "        [0.4651],\n",
      "        [0.6102],\n",
      "        [0.4550],\n",
      "        [0.2912]], grad_fn=<SliceBackward0>) tensor([[52.6700],\n",
      "        [71.6101],\n",
      "        [99.1120],\n",
      "        [68.9214],\n",
      "        [35.7980],\n",
      "        [91.1772],\n",
      "        [43.1613],\n",
      "        [66.9476],\n",
      "        [39.4005],\n",
      "        [ 2.3792]])\n"
     ]
    }
   ],
   "source": [
    "from src import models\n",
    "\n",
    "model = models.RegressionModel()\n",
    "sample = dataset[0]\n",
    "\n",
    "#print(sample[0],sample[1], model(sample[0]))\n",
    "\n",
    "y_pred = model(X)\n",
    "print(y_pred[:10], y[:10])"
   ]
  },
  {
   "cell_type": "code",
   "execution_count": 21,
   "id": "5701147a",
   "metadata": {},
   "outputs": [
    {
     "data": {
      "text/plain": [
       "54.88718032836914"
      ]
     },
     "execution_count": 21,
     "metadata": {},
     "output_type": "execute_result"
    }
   ],
   "source": [
    "loss_fn = torch.nn.L1Loss()\n",
    "\n",
    "loss = loss_fn(y_pred, y)\n",
    "loss.item()"
   ]
  }
 ],
 "metadata": {
  "kernelspec": {
   "display_name": ".venv",
   "language": "python",
   "name": "python3"
  },
  "language_info": {
   "codemirror_mode": {
    "name": "ipython",
    "version": 3
   },
   "file_extension": ".py",
   "mimetype": "text/x-python",
   "name": "python",
   "nbconvert_exporter": "python",
   "pygments_lexer": "ipython3",
   "version": "3.13.3"
  }
 },
 "nbformat": 4,
 "nbformat_minor": 5
}
