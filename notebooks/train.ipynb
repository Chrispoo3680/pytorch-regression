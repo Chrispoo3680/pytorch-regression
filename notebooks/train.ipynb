{
 "cells": [
  {
   "cell_type": "code",
   "execution_count": 1,
   "id": "8cfb3434",
   "metadata": {},
   "outputs": [
    {
     "name": "stdout",
     "output_type": "stream",
     "text": [
      "C:\\Users\\chris\\AppData\\Local\\Programs\\Python\\Python313\\python313.zip\n",
      "C:\\Users\\chris\\AppData\\Local\\Programs\\Python\\Python313\\DLLs\n",
      "C:\\Users\\chris\\AppData\\Local\\Programs\\Python\\Python313\\Lib\n",
      "C:\\Users\\chris\\AppData\\Local\\Programs\\Python\\Python313\n",
      "c:\\Users\\chris\\Desktop\\GitHub\\pytorch-regression\\.venv\n",
      "\n",
      "c:\\Users\\chris\\Desktop\\GitHub\\pytorch-regression\\.venv\\Lib\\site-packages\n",
      "c:\\Users\\chris\\Desktop\\GitHub\\pytorch-regression\\.venv\\Lib\\site-packages\\win32\n",
      "c:\\Users\\chris\\Desktop\\GitHub\\pytorch-regression\\.venv\\Lib\\site-packages\\win32\\lib\n",
      "c:\\Users\\chris\\Desktop\\GitHub\\pytorch-regression\\.venv\\Lib\\site-packages\\Pythonwin\n",
      "C:\\Users\\chris\\Desktop\\GitHub\\pytorch-regression\n"
     ]
    }
   ],
   "source": [
    "import sys\n",
    "from pathlib import Path\n",
    "\n",
    "repo_root_dir: Path = Path(r\"C:\\Users\\chris\\Desktop\\GitHub\\pytorch-regression\\notebooks\\train.ipynb\").parent.parent\n",
    "\n",
    "if str(repo_root_dir) not in sys.path:\n",
    "    sys.path.append(str(repo_root_dir))\n",
    "\n",
    "for p in sys.path: print(p)"
   ]
  },
  {
   "cell_type": "code",
   "execution_count": 2,
   "id": "46747ca2",
   "metadata": {},
   "outputs": [
    {
     "data": {
      "text/plain": [
       "'\\ndata_download.kaggle_download_data(\\n            data_slug=config[\"linear_regression_dataset_slug\"],\\n            data_name=config[\"linear_regression_dataset_name\"],\\n            save_path=data_path,\\n        )\\n'"
      ]
     },
     "execution_count": 2,
     "metadata": {},
     "output_type": "execute_result"
    }
   ],
   "source": [
    "from src import data_download\n",
    "from src.common import tools\n",
    "\n",
    "config = tools.load_config()\n",
    "\n",
    "data_path: Path = repo_root_dir / config[\"data_path\"]\n",
    "\n",
    "\"\"\"\n",
    "data_download.kaggle_download_data(\n",
    "            data_slug=config[\"linear_regression_dataset_slug\"],\n",
    "            data_name=config[\"linear_regression_dataset_name\"],\n",
    "            save_path=data_path,\n",
    "        )\n",
    "\"\"\""
   ]
  },
  {
   "cell_type": "code",
   "execution_count": 3,
   "id": "1f75dd0e",
   "metadata": {},
   "outputs": [
    {
     "data": {
      "text/plain": [
       "[WindowsPath('C:/Users/chris/Desktop/GitHub/pytorch-regression/data/linear_regression_dataset/test.csv'),\n",
       " WindowsPath('C:/Users/chris/Desktop/GitHub/pytorch-regression/data/linear_regression_dataset/train.csv')]"
      ]
     },
     "execution_count": 3,
     "metadata": {},
     "output_type": "execute_result"
    }
   ],
   "source": [
    "from pathlib import Path\n",
    "\n",
    "data_paths = list(Path(data_path).rglob(\"*.csv\" ))\n",
    "data_paths"
   ]
  },
  {
   "cell_type": "code",
   "execution_count": 4,
   "id": "4cf1e7b8",
   "metadata": {},
   "outputs": [],
   "source": [
    "from src import preprocess\n",
    "\n",
    "dataset = preprocess.CSVDataset(data_paths)"
   ]
  },
  {
   "cell_type": "code",
   "execution_count": 7,
   "id": "dd04dd74",
   "metadata": {},
   "outputs": [
    {
     "name": "stdout",
     "output_type": "stream",
     "text": [
      "tensor([77.]) tensor([79.7752]) tensor([0.0027], grad_fn=<ViewBackward0>)\n"
     ]
    }
   ],
   "source": [
    "from src import models\n",
    "import torch\n",
    "\n",
    "model = models.RegressionModel()\n",
    "sample = dataset[0]\n",
    "\n",
    "print(sample[0],sample[1], model(sample[0]))"
   ]
  }
 ],
 "metadata": {
  "kernelspec": {
   "display_name": ".venv",
   "language": "python",
   "name": "python3"
  },
  "language_info": {
   "codemirror_mode": {
    "name": "ipython",
    "version": 3
   },
   "file_extension": ".py",
   "mimetype": "text/x-python",
   "name": "python",
   "nbconvert_exporter": "python",
   "pygments_lexer": "ipython3",
   "version": "3.13.3"
  }
 },
 "nbformat": 4,
 "nbformat_minor": 5
}
